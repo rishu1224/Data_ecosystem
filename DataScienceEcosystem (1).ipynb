{
 "cells": [
  {
   "cell_type": "markdown",
   "id": "a5cfe543-2351-4b3d-8b36-be8728c2f068",
   "metadata": {},
   "source": [
    "# Data Science Tools and Ecosystem"
   ]
  },
  {
   "cell_type": "markdown",
   "id": "7cba6fcc-11fc-48d9-b8a9-49762f421c76",
   "metadata": {},
   "source": [
    "## In this notebook, Data Science Tools and Ecosystem are summarized."
   ]
  },
  {
   "cell_type": "markdown",
   "id": "813c9fdb-4bc0-4964-8356-2c0be78f8c4b",
   "metadata": {},
   "source": [
    "**Objectives:**\n",
    "\n",
    "- List popular languages for Data Science.\n",
    "- Identify key libraries used in Data Science.\n",
    "- Introduce tools for Data Science development.\n",
    "- Explain basic arithmetic operations in Python.\n",
    "- Demonstrate how to convert time units in Python."
   ]
  },
  {
   "cell_type": "markdown",
   "id": "f85c7924-a2ae-4a56-a6ca-eafa7d3ca444",
   "metadata": {},
   "source": [
    "### Some of the popular languages that Data Scientists use are:\n",
    "1. python\n",
    "2. R\n",
    "3. SQL"
   ]
  },
  {
   "cell_type": "markdown",
   "id": "13954115-1ba8-4264-8415-37a710e0c790",
   "metadata": {},
   "source": [
    "### Some of the commonly used libraries used by Data Scientists include:\n",
    "\n",
    "1. Pandas\n",
    "2. NumPy\n",
    "3. Matplotlib\n",
    "4. Scikit-learn\n",
    "5. TensorFlow"
   ]
  },
  {
   "cell_type": "markdown",
   "id": "b5ebff9b-0816-46a7-8da0-02721846c8e9",
   "metadata": {},
   "source": [
    "|Data science Tools|\n",
    "|------------------|\n",
    "|Jupyter Notebook  |\n",
    "|RStudio           |\n",
    "|Apache Zeppelin   |"
   ]
  },
  {
   "cell_type": "code",
   "execution_count": null,
   "id": "43c5738c-1bb0-4b0e-92dc-c39cf39f25d7",
   "metadata": {},
   "outputs": [],
   "source": []
  },
  {
   "cell_type": "markdown",
   "id": "03c95148-6f48-431a-881c-f0654276c9b9",
   "metadata": {},
   "source": [
    "### Below are a few examples of evaluating arithmetic expressions in Python\n"
   ]
  },
  {
   "cell_type": "code",
   "execution_count": 6,
   "id": "b37f480d-b160-405f-92e1-2f16ef0ae9ca",
   "metadata": {},
   "outputs": [
    {
     "data": {
      "text/plain": [
       "17"
      ]
     },
     "execution_count": 6,
     "metadata": {},
     "output_type": "execute_result"
    }
   ],
   "source": [
    "#  This a simple arithmetic expression to mutiply then add integers\n",
    "(3*4)+5"
   ]
  },
  {
   "cell_type": "code",
   "execution_count": 12,
   "id": "3621850a-497f-41fd-b203-bdf9ded2962b",
   "metadata": {},
   "outputs": [
    {
     "name": "stdout",
     "output_type": "stream",
     "text": [
      "3.3333333333333335 hr\n"
     ]
    }
   ],
   "source": [
    "#  This will convert 200 minutes to hours by diving by 60\n",
    "minutes = 200\n",
    "hours = minutes/60\n",
    "print (200/60, \"hr\")"
   ]
  },
  {
   "cell_type": "code",
   "execution_count": null,
   "id": "af67f8bb-67ea-44cf-a4f0-21ebf027fedc",
   "metadata": {},
   "outputs": [],
   "source": []
  },
  {
   "cell_type": "markdown",
   "id": "6532bda2-72a0-4f61-bebf-c0131f040823",
   "metadata": {},
   "source": [
    "## AUTHOR\n",
    "Rishu Singh"
   ]
  },
  {
   "cell_type": "code",
   "execution_count": null,
   "id": "a61c9c98-6eb0-4277-8cf1-a6a814328c41",
   "metadata": {},
   "outputs": [],
   "source": []
  }
 ],
 "metadata": {
  "kernelspec": {
   "display_name": "Python 3 (ipykernel)",
   "language": "python",
   "name": "python3"
  },
  "language_info": {
   "codemirror_mode": {
    "name": "ipython",
    "version": 3
   },
   "file_extension": ".py",
   "mimetype": "text/x-python",
   "name": "python",
   "nbconvert_exporter": "python",
   "pygments_lexer": "ipython3",
   "version": "3.12.5"
  }
 },
 "nbformat": 4,
 "nbformat_minor": 5
}
